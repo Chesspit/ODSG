{
 "cells": [
  {
   "cell_type": "code",
   "execution_count": 1,
   "id": "75078a7e-6be9-4456-a16c-8f468e04e347",
   "metadata": {},
   "outputs": [],
   "source": [
    "import pandas as pd"
   ]
  },
  {
   "cell_type": "code",
   "execution_count": null,
   "id": "15494ed3-3b98-442c-9c61-5713d3846b22",
   "metadata": {},
   "outputs": [],
   "source": [
    "pd.read_csv"
   ]
  },
  {
   "cell_type": "code",
   "execution_count": 2,
   "id": "994d065a-02ed-4654-9694-86f7d14eb4bf",
   "metadata": {},
   "outputs": [
    {
     "data": {
      "text/html": [
       "<iframe\n",
       "    scrolling=\"no\"\n",
       "    width=\"100%\"\n",
       "    height=\"545px\"\n",
       "    src=\"iframe_figures/figure_2.html\"\n",
       "    frameborder=\"0\"\n",
       "    allowfullscreen\n",
       "></iframe>\n"
      ]
     },
     "metadata": {},
     "output_type": "display_data"
    }
   ],
   "source": [
    "import plotly.graph_objects as go\n",
    "import plotly.io as pio\n",
    "pio.renderers.default = 'iframe'\n",
    "\n",
    "# Sample time series data\n",
    "dates = ['2019-01-01', '2019-02-01', '2019-03-01', '2019-04-01', '2019-05-01', '2019-06-01', '2019-07-01', '2019-08-01', '2019-09-01', '2019-10-01', '2019-11-01', '2019-12-01']\n",
    "values = [10, 15, 12, 14, 18, 20, 22, 25, 24, 20, 18, 15]\n",
    "\n",
    "# Create a line plot\n",
    "fig = go.Figure()\n",
    "fig.add_trace(go.Scatter(x=dates, y=values, mode='lines', name='Time series'))\n",
    "\n",
    "# Set the color or marker style for different seasons\n",
    "fig.update_traces(marker=dict(color='blue'), selector=dict(mode='lines', name='Time series'))\n",
    "\n",
    "# Add a seasonal line plot\n",
    "seasonal_dates = ['2019-01-01', '2019-02-01', '2019-03-01', '2019-04-01', '2019-05-01', '2019-06-01', '2019-07-01', '2019-08-01', '2019-09-01', '2019-10-01', '2019-11-01', '2019-12-01']\n",
    "seasonal_values = [12, 12, 12, 18, 18, 18, 22, 22, 22, 15, 15, 15]\n",
    "fig.add_trace(go.Scatter(x=seasonal_dates, y=seasonal_values, mode='lines', name='Seasonality'))\n",
    "\n",
    "# Set the color or marker style for the seasonal component\n",
    "fig.update_traces(marker=dict(color='red'), selector=dict(mode='lines', name='Seasonality'))\n",
    "\n",
    "# Update layout and axis labels\n",
    "fig.update_layout(title='Time Series with Seasonalities',\n",
    "                  xaxis_title='Date',\n",
    "                  yaxis_title='Value')\n",
    "\n",
    "# Display the plot\n",
    "fig.show()\n"
   ]
  },
  {
   "cell_type": "code",
   "execution_count": null,
   "id": "ad226052-cfad-455d-a5ca-42e05a517ea3",
   "metadata": {},
   "outputs": [],
   "source": []
  }
 ],
 "metadata": {
  "kernelspec": {
   "display_name": "dash_jup",
   "language": "python",
   "name": "dash_jup"
  },
  "language_info": {
   "codemirror_mode": {
    "name": "ipython",
    "version": 3
   },
   "file_extension": ".py",
   "mimetype": "text/x-python",
   "name": "python",
   "nbconvert_exporter": "python",
   "pygments_lexer": "ipython3",
   "version": "3.10.2"
  }
 },
 "nbformat": 4,
 "nbformat_minor": 5
}
