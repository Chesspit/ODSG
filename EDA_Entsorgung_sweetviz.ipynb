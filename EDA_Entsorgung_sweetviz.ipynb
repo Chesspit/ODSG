{
 "cells": [
  {
   "cell_type": "code",
   "execution_count": 6,
   "id": "8347bf0a-47fa-4153-8c21-acaa4b2a925f",
   "metadata": {},
   "outputs": [],
   "source": [
    "import sweetviz as sv"
   ]
  },
  {
   "cell_type": "code",
   "execution_count": 1,
   "id": "e3e06d61-2306-433c-8caa-03a0b4b6e8e3",
   "metadata": {},
   "outputs": [],
   "source": [
    "import pandas as pd\n"
   ]
  },
  {
   "cell_type": "code",
   "execution_count": 5,
   "id": "c22cda56-07f8-41b7-a6be-1605f75ada76",
   "metadata": {},
   "outputs": [
    {
     "data": {
      "text/html": [
       "<div>\n",
       "<style scoped>\n",
       "    .dataframe tbody tr th:only-of-type {\n",
       "        vertical-align: middle;\n",
       "    }\n",
       "\n",
       "    .dataframe tbody tr th {\n",
       "        vertical-align: top;\n",
       "    }\n",
       "\n",
       "    .dataframe thead th {\n",
       "        text-align: right;\n",
       "    }\n",
       "</style>\n",
       "<table border=\"1\" class=\"dataframe\">\n",
       "  <thead>\n",
       "    <tr style=\"text-align: right;\">\n",
       "      <th></th>\n",
       "      <th>Monat_Jahr</th>\n",
       "      <th>Abfallfraktion</th>\n",
       "      <th>Unterkategorie</th>\n",
       "      <th>Entsorgungsart</th>\n",
       "      <th>Abfuhrgebiet</th>\n",
       "      <th>Annahmestelle</th>\n",
       "      <th>Deponie Anlieferung</th>\n",
       "      <th>Gewicht in kg</th>\n",
       "      <th>Gewicht in t</th>\n",
       "    </tr>\n",
       "  </thead>\n",
       "  <tbody>\n",
       "    <tr>\n",
       "      <th>0</th>\n",
       "      <td>2015-04</td>\n",
       "      <td>Kehricht</td>\n",
       "      <td>NaN</td>\n",
       "      <td>NaN</td>\n",
       "      <td>NaN</td>\n",
       "      <td>NaN</td>\n",
       "      <td>NaN</td>\n",
       "      <td>1434100.0</td>\n",
       "      <td>1434.10</td>\n",
       "    </tr>\n",
       "    <tr>\n",
       "      <th>1</th>\n",
       "      <td>2016-02</td>\n",
       "      <td>Kehricht</td>\n",
       "      <td>NaN</td>\n",
       "      <td>NaN</td>\n",
       "      <td>NaN</td>\n",
       "      <td>NaN</td>\n",
       "      <td>NaN</td>\n",
       "      <td>1335040.0</td>\n",
       "      <td>1335.04</td>\n",
       "    </tr>\n",
       "    <tr>\n",
       "      <th>2</th>\n",
       "      <td>2016-06</td>\n",
       "      <td>Kehricht</td>\n",
       "      <td>NaN</td>\n",
       "      <td>NaN</td>\n",
       "      <td>NaN</td>\n",
       "      <td>NaN</td>\n",
       "      <td>NaN</td>\n",
       "      <td>1494690.0</td>\n",
       "      <td>1494.69</td>\n",
       "    </tr>\n",
       "    <tr>\n",
       "      <th>3</th>\n",
       "      <td>2016-08</td>\n",
       "      <td>Kehricht</td>\n",
       "      <td>NaN</td>\n",
       "      <td>NaN</td>\n",
       "      <td>NaN</td>\n",
       "      <td>NaN</td>\n",
       "      <td>NaN</td>\n",
       "      <td>1374210.0</td>\n",
       "      <td>1374.21</td>\n",
       "    </tr>\n",
       "    <tr>\n",
       "      <th>4</th>\n",
       "      <td>2017-11</td>\n",
       "      <td>Kehricht</td>\n",
       "      <td>NaN</td>\n",
       "      <td>NaN</td>\n",
       "      <td>NaN</td>\n",
       "      <td>NaN</td>\n",
       "      <td>NaN</td>\n",
       "      <td>1363680.0</td>\n",
       "      <td>1363.68</td>\n",
       "    </tr>\n",
       "  </tbody>\n",
       "</table>\n",
       "</div>"
      ],
      "text/plain": [
       "  Monat_Jahr Abfallfraktion Unterkategorie Entsorgungsart Abfuhrgebiet  \\\n",
       "0    2015-04       Kehricht            NaN            NaN          NaN   \n",
       "1    2016-02       Kehricht            NaN            NaN          NaN   \n",
       "2    2016-06       Kehricht            NaN            NaN          NaN   \n",
       "3    2016-08       Kehricht            NaN            NaN          NaN   \n",
       "4    2017-11       Kehricht            NaN            NaN          NaN   \n",
       "\n",
       "  Annahmestelle Deponie Anlieferung  Gewicht in kg  Gewicht in t  \n",
       "0           NaN                 NaN      1434100.0       1434.10  \n",
       "1           NaN                 NaN      1335040.0       1335.04  \n",
       "2           NaN                 NaN      1494690.0       1494.69  \n",
       "3           NaN                 NaN      1374210.0       1374.21  \n",
       "4           NaN                 NaN      1363680.0       1363.68  "
      ]
     },
     "execution_count": 5,
     "metadata": {},
     "output_type": "execute_result"
    }
   ],
   "source": [
    "df = pd.read_csv('entsorgungsstatistik-stadt-stgallen.csv', sep = ';')\n",
    "df.head()"
   ]
  },
  {
   "cell_type": "code",
   "execution_count": 7,
   "id": "2f257276-e312-4e16-856d-42afd33572c1",
   "metadata": {},
   "outputs": [
    {
     "name": "stderr",
     "output_type": "stream",
     "text": [
      "C:\\Users\\peter\\anaconda3\\envs\\dashjup\\lib\\site-packages\\sweetviz\\dataframe_report.py:74: FutureWarning: iteritems is deprecated and will be removed in a future version. Use .items instead.\n",
      "  all_source_names = [cur_name for cur_name, cur_series in source_df.iteritems()]\n",
      "C:\\Users\\peter\\anaconda3\\envs\\dashjup\\lib\\site-packages\\sweetviz\\dataframe_report.py:109: FutureWarning: iteritems is deprecated and will be removed in a future version. Use .items instead.\n",
      "  filtered_series_names_in_source = [cur_name for cur_name, cur_series in source_df.iteritems()\n"
     ]
    },
    {
     "data": {
      "application/vnd.jupyter.widget-view+json": {
       "model_id": "cd62f405f08a4e53b9d0641686180c45",
       "version_major": 2,
       "version_minor": 0
      },
      "text/plain": [
       "                                             |          | [  0%]   00:00 -> (? left)"
      ]
     },
     "metadata": {},
     "output_type": "display_data"
    },
    {
     "name": "stderr",
     "output_type": "stream",
     "text": [
      "C:\\Users\\peter\\anaconda3\\envs\\dashjup\\lib\\site-packages\\sweetviz\\series_analyzer_cat.py:28: FutureWarning: iteritems is deprecated and will be removed in a future version. Use .items instead.\n",
      "  for item in category_counts.iteritems():\n",
      "C:\\Users\\peter\\anaconda3\\envs\\dashjup\\lib\\site-packages\\sweetviz\\series_analyzer_cat.py:28: FutureWarning: iteritems is deprecated and will be removed in a future version. Use .items instead.\n",
      "  for item in category_counts.iteritems():\n",
      "C:\\Users\\peter\\anaconda3\\envs\\dashjup\\lib\\site-packages\\sweetviz\\series_analyzer_cat.py:28: FutureWarning: iteritems is deprecated and will be removed in a future version. Use .items instead.\n",
      "  for item in category_counts.iteritems():\n",
      "C:\\Users\\peter\\anaconda3\\envs\\dashjup\\lib\\site-packages\\sweetviz\\series_analyzer_cat.py:28: FutureWarning: iteritems is deprecated and will be removed in a future version. Use .items instead.\n",
      "  for item in category_counts.iteritems():\n",
      "C:\\Users\\peter\\anaconda3\\envs\\dashjup\\lib\\site-packages\\sweetviz\\series_analyzer_cat.py:28: FutureWarning: iteritems is deprecated and will be removed in a future version. Use .items instead.\n",
      "  for item in category_counts.iteritems():\n",
      "C:\\Users\\peter\\anaconda3\\envs\\dashjup\\lib\\site-packages\\sweetviz\\series_analyzer_cat.py:28: FutureWarning: iteritems is deprecated and will be removed in a future version. Use .items instead.\n",
      "  for item in category_counts.iteritems():\n",
      "C:\\Users\\peter\\anaconda3\\envs\\dashjup\\lib\\site-packages\\sweetviz\\series_analyzer_cat.py:28: FutureWarning: iteritems is deprecated and will be removed in a future version. Use .items instead.\n",
      "  for item in category_counts.iteritems():\n",
      "C:\\Users\\peter\\anaconda3\\envs\\dashjup\\lib\\site-packages\\sweetviz\\series_analyzer_numeric.py:25: FutureWarning: The 'mad' method is deprecated and will be removed in a future version. To compute the same result, you may do `(df - df.mean()).abs().mean()`.\n",
      "  stats[\"mad\"] = series.mad()\n",
      "C:\\Users\\peter\\anaconda3\\envs\\dashjup\\lib\\site-packages\\sweetviz\\series_analyzer_numeric.py:25: FutureWarning: The 'mad' method is deprecated and will be removed in a future version. To compute the same result, you may do `(df - df.mean()).abs().mean()`.\n",
      "  stats[\"mad\"] = series.mad()\n"
     ]
    }
   ],
   "source": [
    "# Generate a Sweetviz report\n",
    "report = sv.analyze(df)\n"
   ]
  },
  {
   "cell_type": "code",
   "execution_count": 8,
   "id": "7f0c7e5c-0fea-4148-9d00-6c781651e92a",
   "metadata": {},
   "outputs": [
    {
     "name": "stdout",
     "output_type": "stream",
     "text": [
      "Report SWEETVIZ_REPORT.html was generated! NOTEBOOK/COLAB USERS: the web browser MAY not pop up, regardless, the report IS saved in your notebook/colab files.\n"
     ]
    }
   ],
   "source": [
    "report.show_html()"
   ]
  },
  {
   "cell_type": "code",
   "execution_count": null,
   "id": "960d1acd-9fb4-471b-8cdd-6dccdba4a072",
   "metadata": {},
   "outputs": [],
   "source": []
  }
 ],
 "metadata": {
  "kernelspec": {
   "display_name": "Python [conda env:dashjup]",
   "language": "python",
   "name": "conda-env-dashjup-py"
  },
  "language_info": {
   "codemirror_mode": {
    "name": "ipython",
    "version": 3
   },
   "file_extension": ".py",
   "mimetype": "text/x-python",
   "name": "python",
   "nbconvert_exporter": "python",
   "pygments_lexer": "ipython3",
   "version": "3.10.9"
  }
 },
 "nbformat": 4,
 "nbformat_minor": 5
}
