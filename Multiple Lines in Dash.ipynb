{
 "cells": [
  {
   "cell_type": "code",
   "execution_count": 5,
   "id": "0f0855b5-57b7-46bf-993a-cb77fb408a19",
   "metadata": {},
   "outputs": [],
   "source": [
    "import plotly.graph_objs as go\n",
    "import plotly.express as px\n",
    "import pandas as pd\n",
    "import plotly.io as pio\n",
    "\n",
    "# Set the renderer to 'notebook'\n",
    "pio.renderers.default = 'iframe'\n",
    "\n",
    "\n",
    "# Data\n",
    "gapminder = px.data.gapminder()"
   ]
  },
  {
   "cell_type": "code",
   "execution_count": 9,
   "id": "30b4c25a-5cc3-4a27-8da2-690bcb9e8d8f",
   "metadata": {},
   "outputs": [],
   "source": [
    "# Most productive european countries (as of 2007)\n",
    "df_eur = gapminder[gapminder['continent']=='Europe']\n",
    "df_eur_2007 = df_eur[df_eur['year']==2007]"
   ]
  },
  {
   "cell_type": "code",
   "execution_count": 10,
   "id": "1fa38a55-e9bc-4000-9ed7-68f548b8151d",
   "metadata": {},
   "outputs": [
    {
     "data": {
      "text/plain": [
       "['Norway', 'Ireland', 'Switzerland', 'Netherlands', 'Iceland']"
      ]
     },
     "execution_count": 10,
     "metadata": {},
     "output_type": "execute_result"
    }
   ],
   "source": [
    "\n",
    "\n",
    "eur_gdp_top5=df_eur_2007.nlargest(5, 'gdpPercap')['country'].tolist()\n",
    "eur_gdp_top5"
   ]
  },
  {
   "cell_type": "code",
   "execution_count": 12,
   "id": "a721bdeb-f349-464d-ab34-018c255eaeda",
   "metadata": {},
   "outputs": [
    {
     "data": {
      "text/html": [
       "<div>\n",
       "<style scoped>\n",
       "    .dataframe tbody tr th:only-of-type {\n",
       "        vertical-align: middle;\n",
       "    }\n",
       "\n",
       "    .dataframe tbody tr th {\n",
       "        vertical-align: top;\n",
       "    }\n",
       "\n",
       "    .dataframe thead th {\n",
       "        text-align: right;\n",
       "    }\n",
       "</style>\n",
       "<table border=\"1\" class=\"dataframe\">\n",
       "  <thead>\n",
       "    <tr style=\"text-align: right;\">\n",
       "      <th></th>\n",
       "      <th>country</th>\n",
       "      <th>continent</th>\n",
       "      <th>year</th>\n",
       "      <th>lifeExp</th>\n",
       "      <th>pop</th>\n",
       "      <th>gdpPercap</th>\n",
       "      <th>iso_alpha</th>\n",
       "      <th>iso_num</th>\n",
       "    </tr>\n",
       "  </thead>\n",
       "  <tbody>\n",
       "    <tr>\n",
       "      <th>684</th>\n",
       "      <td>Iceland</td>\n",
       "      <td>Europe</td>\n",
       "      <td>1952</td>\n",
       "      <td>72.49</td>\n",
       "      <td>147962</td>\n",
       "      <td>7267.688428</td>\n",
       "      <td>ISL</td>\n",
       "      <td>352</td>\n",
       "    </tr>\n",
       "    <tr>\n",
       "      <th>685</th>\n",
       "      <td>Iceland</td>\n",
       "      <td>Europe</td>\n",
       "      <td>1957</td>\n",
       "      <td>73.47</td>\n",
       "      <td>165110</td>\n",
       "      <td>9244.001412</td>\n",
       "      <td>ISL</td>\n",
       "      <td>352</td>\n",
       "    </tr>\n",
       "    <tr>\n",
       "      <th>686</th>\n",
       "      <td>Iceland</td>\n",
       "      <td>Europe</td>\n",
       "      <td>1962</td>\n",
       "      <td>73.68</td>\n",
       "      <td>182053</td>\n",
       "      <td>10350.159060</td>\n",
       "      <td>ISL</td>\n",
       "      <td>352</td>\n",
       "    </tr>\n",
       "    <tr>\n",
       "      <th>687</th>\n",
       "      <td>Iceland</td>\n",
       "      <td>Europe</td>\n",
       "      <td>1967</td>\n",
       "      <td>73.73</td>\n",
       "      <td>198676</td>\n",
       "      <td>13319.895680</td>\n",
       "      <td>ISL</td>\n",
       "      <td>352</td>\n",
       "    </tr>\n",
       "    <tr>\n",
       "      <th>688</th>\n",
       "      <td>Iceland</td>\n",
       "      <td>Europe</td>\n",
       "      <td>1972</td>\n",
       "      <td>74.46</td>\n",
       "      <td>209275</td>\n",
       "      <td>15798.063620</td>\n",
       "      <td>ISL</td>\n",
       "      <td>352</td>\n",
       "    </tr>\n",
       "  </tbody>\n",
       "</table>\n",
       "</div>"
      ],
      "text/plain": [
       "     country continent  year  lifeExp     pop     gdpPercap iso_alpha  iso_num\n",
       "684  Iceland    Europe  1952    72.49  147962   7267.688428       ISL      352\n",
       "685  Iceland    Europe  1957    73.47  165110   9244.001412       ISL      352\n",
       "686  Iceland    Europe  1962    73.68  182053  10350.159060       ISL      352\n",
       "687  Iceland    Europe  1967    73.73  198676  13319.895680       ISL      352\n",
       "688  Iceland    Europe  1972    74.46  209275  15798.063620       ISL      352"
      ]
     },
     "execution_count": 12,
     "metadata": {},
     "output_type": "execute_result"
    }
   ],
   "source": [
    "df_eur_gdp_top5 = df_eur[df_eur['country'].isin(eur_gdp_top5)]\n",
    "df_eur_gdp_top5.head()"
   ]
  },
  {
   "cell_type": "code",
   "execution_count": null,
   "id": "f7586062-4382-4222-8a9e-9d4cf2925fa9",
   "metadata": {},
   "outputs": [],
   "source": []
  },
  {
   "cell_type": "code",
   "execution_count": null,
   "id": "dfee1657-161f-41b7-9a6c-b9f762e2c058",
   "metadata": {},
   "outputs": [],
   "source": []
  },
  {
   "cell_type": "code",
   "execution_count": null,
   "id": "fefd0416-71f1-4e3c-a977-daadfe4d07a7",
   "metadata": {},
   "outputs": [],
   "source": []
  },
  {
   "cell_type": "code",
   "execution_count": 26,
   "id": "c8a5b98c-e528-4b80-8b6f-95a2ba77cbf5",
   "metadata": {},
   "outputs": [
    {
     "data": {
      "text/html": [
       "<iframe\n",
       "    scrolling=\"no\"\n",
       "    width=\"100%\"\n",
       "    height=\"545px\"\n",
       "    src=\"iframe_figures/figure_26.html\"\n",
       "    frameborder=\"0\"\n",
       "    allowfullscreen\n",
       "></iframe>\n"
      ]
     },
     "metadata": {},
     "output_type": "display_data"
    }
   ],
   "source": [
    "# Plotly figure 1\n",
    "fig = px.line(df_eur_gdp_top5, x='year', y='gdpPercap',\n",
    "              color=\"country\",\n",
    "              line_group=\"country\", hover_name=\"country\")\n",
    "fig.update_layout(title='Productivity, Europe' , showlegend=False)\n",
    "fig.show()"
   ]
  },
  {
   "cell_type": "code",
   "execution_count": 27,
   "id": "086f6571-a82f-43ad-9966-c70232f7ab1e",
   "metadata": {},
   "outputs": [],
   "source": [
    "df_ame = gapminder[gapminder['continent']=='Americas']\n",
    "df_ame_2007 = df_ame[df_ame['year']==2007]\n",
    "df_ame_top5=df_ame_2007.nlargest(5, 'gdpPercap')['country'].tolist()\n",
    "df_ame_gdp_top5 = df_ame[df_ame['country'].isin(df_ame_top5)]"
   ]
  },
  {
   "cell_type": "code",
   "execution_count": null,
   "id": "1098c139-7ba1-4b3b-8f1f-4b85bc0a4d51",
   "metadata": {},
   "outputs": [],
   "source": [
    "fig2 = go.Figure(fig.add_traces(data=px.line(df_ame_gdp_top5, x='year', y='gdpPercap', color=\"country\", line_group=\"country\", line_dash='country', hover_name=\"country\")._data))"
   ]
  },
  {
   "cell_type": "code",
   "execution_count": 29,
   "id": "179ab802-b346-451e-8bc3-2cd2531a7e34",
   "metadata": {},
   "outputs": [
    {
     "data": {
      "text/html": [
       "<iframe\n",
       "    scrolling=\"no\"\n",
       "    width=\"100%\"\n",
       "    height=\"545px\"\n",
       "    src=\"iframe_figures/figure_29.html\"\n",
       "    frameborder=\"0\"\n",
       "    allowfullscreen\n",
       "></iframe>\n"
      ]
     },
     "metadata": {},
     "output_type": "display_data"
    }
   ],
   "source": [
    "fig2 = go.Figure(fig.add_traces(\n",
    "                 data=px.line(df_ame_gdp_top5, x='year', y='gdpPercap',\n",
    "                              color=\"country\",\n",
    "                              line_group=\"country\", line_dash='country', hover_name=\"country\")._data))\n",
    "fig2.update_layout(title='Productivity, Europe and America', showlegend=False)"
   ]
  },
  {
   "cell_type": "code",
   "execution_count": 2,
   "id": "bfb548ca-b519-4bf9-921d-e720e6b86c43",
   "metadata": {},
   "outputs": [],
   "source": [
    "from plotly.subplots import make_subplots"
   ]
  },
  {
   "cell_type": "code",
   "execution_count": 3,
   "id": "43b22874-9beb-4a58-b6a7-8976e362fb99",
   "metadata": {},
   "outputs": [],
   "source": [
    "fig = make_subplots(rows=3, cols=3)"
   ]
  },
  {
   "cell_type": "code",
   "execution_count": null,
   "id": "e7e75893-bfad-48b3-bc6d-01f0ee4a50c7",
   "metadata": {},
   "outputs": [],
   "source": []
  },
  {
   "cell_type": "code",
   "execution_count": null,
   "id": "dd5dd02e-4d9e-4150-bb9c-ed01529666b6",
   "metadata": {},
   "outputs": [],
   "source": []
  },
  {
   "cell_type": "code",
   "execution_count": null,
   "id": "632d1c85-97ab-4c17-abcc-0da8d01ee102",
   "metadata": {},
   "outputs": [],
   "source": []
  }
 ],
 "metadata": {
  "kernelspec": {
   "display_name": "dash_jup",
   "language": "python",
   "name": "dash_jup"
  },
  "language_info": {
   "codemirror_mode": {
    "name": "ipython",
    "version": 3
   },
   "file_extension": ".py",
   "mimetype": "text/x-python",
   "name": "python",
   "nbconvert_exporter": "python",
   "pygments_lexer": "ipython3",
   "version": "3.10.2"
  }
 },
 "nbformat": 4,
 "nbformat_minor": 5
}
