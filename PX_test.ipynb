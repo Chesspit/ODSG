{
 "cells": [
  {
   "cell_type": "code",
   "execution_count": 2,
   "id": "512ca0e1-f4b2-46a7-8de9-d59806922dde",
   "metadata": {},
   "outputs": [],
   "source": [
    "import plotly.express as px"
   ]
  },
  {
   "cell_type": "markdown",
   "id": "3c8b87af-e69f-4b33-8491-74e91cef65ce",
   "metadata": {},
   "source": [
    "#### Import und setting des Renderers ist wichtig, damit die Grafiken in Jupayterlab gezeigt werden"
   ]
  },
  {
   "cell_type": "code",
   "execution_count": null,
   "id": "dc446136-ce9b-45d5-94d1-f31af569a9e6",
   "metadata": {},
   "outputs": [],
   "source": [
    "import plotly.io as pio\n",
    "pio.renderers.default = 'iframe'"
   ]
  },
  {
   "cell_type": "code",
   "execution_count": 3,
   "id": "62665969-23e3-4716-a9d7-ad78eff78c4c",
   "metadata": {},
   "outputs": [],
   "source": [
    "\n",
    "df = px.data.iris()\n",
    "fig = px.scatter(df, x=\"sepal_width\", y=\"sepal_length\", color=\"species\")\n"
   ]
  },
  {
   "cell_type": "code",
   "execution_count": 4,
   "id": "75307c85-211d-4a79-a04b-3a05e22d6f9e",
   "metadata": {},
   "outputs": [
    {
     "data": {
      "text/html": [
       "<iframe\n",
       "    scrolling=\"no\"\n",
       "    width=\"100%\"\n",
       "    height=\"545px\"\n",
       "    src=\"iframe_figures/figure_4.html\"\n",
       "    frameborder=\"0\"\n",
       "    allowfullscreen\n",
       "></iframe>\n"
      ]
     },
     "metadata": {},
     "output_type": "display_data"
    }
   ],
   "source": [
    "\n",
    "fig.show()"
   ]
  },
  {
   "cell_type": "code",
   "execution_count": null,
   "id": "4db26382-b61a-43e4-9dab-ec9d19de6903",
   "metadata": {},
   "outputs": [],
   "source": []
  },
  {
   "cell_type": "code",
   "execution_count": null,
   "id": "b0024db0-74ae-4c8b-94d1-e3f9761a0468",
   "metadata": {},
   "outputs": [],
   "source": []
  },
  {
   "cell_type": "code",
   "execution_count": null,
   "id": "b617cc0d-03ca-47db-b90c-7c196fe9b721",
   "metadata": {},
   "outputs": [],
   "source": []
  }
 ],
 "metadata": {
  "kernelspec": {
   "display_name": "dash_jup",
   "language": "python",
   "name": "dash_jup"
  },
  "language_info": {
   "codemirror_mode": {
    "name": "ipython",
    "version": 3
   },
   "file_extension": ".py",
   "mimetype": "text/x-python",
   "name": "python",
   "nbconvert_exporter": "python",
   "pygments_lexer": "ipython3",
   "version": "3.10.2"
  }
 },
 "nbformat": 4,
 "nbformat_minor": 5
}
